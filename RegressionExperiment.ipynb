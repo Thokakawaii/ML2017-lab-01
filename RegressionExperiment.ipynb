{
 "cells": [
  {
   "cell_type": "code",
   "execution_count": 1,
   "metadata": {},
   "outputs": [
    {
     "data": {
      "image/png": "[encoded data removed]",
      "text/plain": [
       "<matplotlib.figure.Figure at 0x212f2437668>"
      ]
     },
     "metadata": {},
     "output_type": "display_data"
    },
    {
     "name": "stdout",
     "output_type": "stream",
     "text": [
      "10.7078150891\n",
      "13.2212819071\n"
     ]
    }
   ],
   "source": [
    "from sklearn import datasets \n",
    "import numpy as np\n",
    "from scipy.sparse import csr_matrix, hstack\n",
    "import matplotlib.pyplot as plt\n",
    "from sklearn.model_selection import train_test_split\n",
    "\n",
    "\n",
    "\n",
    "def data_loader(file):\n",
    "    X,Y = datasets.load_svmlight_file(file)\n",
    "    one = np.ones((X.shape[0],1))\n",
    "    X = hstack( [X, csr_matrix(one)] ).toarray()\n",
    "    Y = np.array(Y).reshape(X.shape[0],1)\n",
    "    return X, Y\n",
    "\n",
    "def train(X_train, Y_train, theta, learning_rate):\n",
    "    gradient = np.dot(X_train.transpose(), X_train.dot(theta) - Y_train )\n",
    "    theta -= learning_rate * gradient\n",
    "    return theta\n",
    "\n",
    "def loss_function(X_test, Y_test, theta):\n",
    "    Y_prediction = X_test.dot(theta)\n",
    "    loss = 0.5/X_test.shape[0] * np.dot((Y_test - Y_prediction).transpose(), (Y_test - Y_prediction) ).sum()\n",
    "    return loss\n",
    "\n",
    "def plt_loss(epoch, learning_rate):\n",
    "    X, Y = data_loader('housing.txt')\n",
    "    theta = np.zeros((X.shape[1], 1))\n",
    "    X_train, X_test, Y_train, Y_test = train_test_split(X, Y, test_size=0.2)\n",
    "    train_loss = []\n",
    "    test_loss = []\n",
    "    for episode in range(epoch):      \n",
    "        theta = train(X_train, Y_train, theta, learning_rate)\n",
    "        Loss = loss_function(X_train, Y_train, theta)\n",
    "        train_loss.append(Loss)\n",
    "        loss = loss_function(X_test, Y_test, theta)\n",
    "        test_loss.append(loss)       \n",
    "    plt.title('figure')\n",
    "    plt.xlabel('Epoch')\n",
    "    plt.ylabel('Loss')\n",
    "    plt.plot(train_loss, label=\"loss_train\")\n",
    "    plt.plot(test_loss, label=\"loss_validation\")\n",
    "    plt.legend(loc='upper right')\n",
    "    plt.show()\n",
    "    print(Loss)\n",
    "    print(loss)\n",
    "\n",
    "if __name__ ==\"__main__\":\n",
    "    plt_loss(epoch=1000, learning_rate=0.0001)\n"
   ]
  },
  {
   "cell_type": "code",
   "execution_count": null,
   "metadata": {
    "collapsed": true
   },
   "outputs": [],
   "source": []
  }
 ],
 "metadata": {
  "kernelspec": {
   "display_name": "Python 3",
   "language": "python",
   "name": "python3"
  },
  "language_info": {
   "codemirror_mode": {
    "name": "ipython",
    "version": 3
   },
   "file_extension": ".py",
   "mimetype": "text/x-python",
   "name": "python",
   "nbconvert_exporter": "python",
   "pygments_lexer": "ipython3",
   "version": "3.6.3"
  }
 },
 "nbformat": 4,
 "nbformat_minor": 2
}
